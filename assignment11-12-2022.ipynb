{
 "cells": [
  {
   "cell_type": "markdown",
   "id": "63df62a1-2d50-457b-b36f-a8d055c6cc06",
   "metadata": {},
   "source": [
    "## Ques1"
   ]
  },
  {
   "cell_type": "code",
   "execution_count": 44,
   "id": "074e29db-4450-478f-b7a2-d4de04eb319f",
   "metadata": {},
   "outputs": [],
   "source": [
    "class BankAccount:\n",
    "    \n",
    "    def __init__(self,name,amount,interest_rate):\n",
    "        self.name = name\n",
    "        self.amount = amount\n",
    "        self.interest_rate = interest_rate\n",
    "        \n",
    "    def apply_interest(self):\n",
    "        self.amount = self.amount + (self.interest_rate*self.amount)"
   ]
  },
  {
   "cell_type": "code",
   "execution_count": 45,
   "id": "4c59707c-a016-47bf-981f-44e454da6fa1",
   "metadata": {},
   "outputs": [
    {
     "name": "stdout",
     "output_type": "stream",
     "text": [
      "Hi Juan De Hattatime, your current bank balance: 1030.0\n",
      "Hi Juan De Hattatime, your current bank balance: 1060.9\n"
     ]
    }
   ],
   "source": [
    "ba = BankAccount('Juan De Hattatime', 1000, 0.03)\n",
    "ba.apply_interest()\n",
    "print(f\"Hi {ba.name}, your current bank balance:\",ba.amount)\n",
    "ba.apply_interest()\n",
    "print(f\"Hi {ba.name}, your current bank balance:\",ba.amount)"
   ]
  },
  {
   "cell_type": "markdown",
   "id": "942ba94b-5bb6-49c9-9bc7-3d1bfda5b42e",
   "metadata": {},
   "source": [
    "## Ques2"
   ]
  },
  {
   "cell_type": "code",
   "execution_count": 46,
   "id": "64c3a5ee-8296-4e34-a901-102f5087cb08",
   "metadata": {},
   "outputs": [],
   "source": [
    "class Item:\n",
    "    \n",
    "    def __init__(self,name,price):\n",
    "        self.name = name\n",
    "        self.price = price\n",
    "    \n",
    "    def __str__(self):\n",
    "        return f\"Item - {self.name} and Price - {round(self.price,2)}\"\n",
    "    "
   ]
  },
  {
   "cell_type": "code",
   "execution_count": 47,
   "id": "19134406-5f71-4dba-a9e6-dd6c65367688",
   "metadata": {},
   "outputs": [
    {
     "name": "stdout",
     "output_type": "stream",
     "text": [
      "Item - Phone and Price - 12499.96\n"
     ]
    }
   ],
   "source": [
    "item1 = Item(\"Phone\",12499.9558)\n",
    "print(item1)"
   ]
  },
  {
   "cell_type": "markdown",
   "id": "923c6a45-a872-4e7c-b871-40d94decb607",
   "metadata": {},
   "source": [
    "## Ques3"
   ]
  },
  {
   "cell_type": "code",
   "execution_count": 48,
   "id": "634762a3-090d-4710-a7a8-b917738729ea",
   "metadata": {},
   "outputs": [],
   "source": [
    "class ShoppingCart:\n",
    "    \n",
    "    def __init__(self):\n",
    "        self.items_list = []\n",
    "        \n",
    "    def add(self,name,price):\n",
    "        self.items_list.append({\"name\":name,\"price\":int(price)})        \n",
    "    \n",
    "    def total(self):\n",
    "        total_cost = 0\n",
    "        for i in self.items_list:\n",
    "            total_cost += i['price']\n",
    "        return total_cost\n",
    "    \n",
    "    def remove_items(self,item_name):\n",
    "        for i in self.items_list:\n",
    "            if i['name'] == item_name:\n",
    "                self.items_list.remove(i)\n",
    "                break\n",
    "    \n",
    "    def __str__(self):\n",
    "        list_of_item = \"------------------------\\nList of Items present in your cart:\\n\"\n",
    "        for i in self.items_list:\n",
    "            list_of_item += f\"Item name : {i['name']} and Price : {i['price']}\\n\"\n",
    "        return list_of_item"
   ]
  },
  {
   "cell_type": "code",
   "execution_count": 49,
   "id": "dc31698f-a658-4a0c-b9b7-7274ad220bab",
   "metadata": {},
   "outputs": [
    {
     "name": "stdout",
     "output_type": "stream",
     "text": [
      "Total cost of the cart: 84000\n",
      "------------------------\n",
      "List of Items present in your cart:\n",
      "Item name : Oneplus 9R and Price : 33000\n",
      "Item name : Belt and Price : 500\n",
      "Item name : Samsung TV and Price : 45000\n",
      "Item name : Headphone and Price : 4000\n",
      "\n"
     ]
    }
   ],
   "source": [
    "cart1 = ShoppingCart()\n",
    "\n",
    "cart1.add(\"Oneplus 9R\",33000)\n",
    "cart1.add(\"Belt\",500)\n",
    "cart1.add(\"Samsung TV\",45000)\n",
    "cart1.add(\"Bag\",1500)\n",
    "cart1.add(\"Headphone\",4000)\n",
    "\n",
    "print(\"Total cost of the cart:\",cart1.total())\n",
    "\n",
    "cart1.remove_items(\"Bag\")\n",
    "\n",
    "print(cart1)"
   ]
  },
  {
   "cell_type": "markdown",
   "id": "f0dbe045-1cad-4898-834a-b41916785a01",
   "metadata": {},
   "source": [
    "## Ques4"
   ]
  },
  {
   "cell_type": "code",
   "execution_count": 50,
   "id": "89669aa4-b887-43e4-b92f-651f967850bc",
   "metadata": {},
   "outputs": [],
   "source": [
    "class RestaurantCheck:\n",
    "    \n",
    "    def __init__(self,check_number,sales_tax_percent,subtotal,table_number,server_name):\n",
    "        self.check_number = check_number\n",
    "        self.sales_tax_percent = sales_tax_percent\n",
    "        self.subtotal = subtotal\n",
    "        self.table_number = table_number\n",
    "        self.server_name = server_name\n",
    "    \n",
    "    def calculate_total(self):\n",
    "        return round(self.subtotal + (self.sales_tax_percent / 100) * self.subtotal,2)\n",
    "    \n",
    "    def print_check(self):\n",
    "        print_str = \"Check Number: \"+str(self.check_number)+\"\\nSales tax: \"+str(self.sales_tax_percent)+\"%\\nSubtotal: $\"+str(self.subtotal)+\"\\nTotal: $\"+str(self.calculate_total())+\"\\nTable Number: \"+str(self.table_number)+\"\\nServer: \"+str(self.server_name)\n",
    "        with open('check'+str(self.check_number)+'.txt','w') as f:\n",
    "            f.write(print_str)"
   ]
  },
  {
   "cell_type": "code",
   "execution_count": 51,
   "id": "9c6fb493-36d6-4024-b4c2-4a2b2ba6a52d",
   "metadata": {},
   "outputs": [],
   "source": [
    "table1 = RestaurantCheck(443,6.0,23.14,17,\"Sonic the Hedgehog\")\n",
    "table1.print_check()"
   ]
  },
  {
   "cell_type": "markdown",
   "id": "afa54177-554a-4a4f-ba09-b2178c990eb2",
   "metadata": {},
   "source": [
    "## Ques5"
   ]
  },
  {
   "cell_type": "code",
   "execution_count": 52,
   "id": "8a0f4f90-247a-4359-b43d-3c83641fb2c2",
   "metadata": {},
   "outputs": [],
   "source": [
    "class Ticket:\n",
    "    \n",
    "    def __init__(self,cost,time):\n",
    "        self.cost = cost\n",
    "        self.time = time\n",
    "    \n",
    "    def __str__(self):\n",
    "        return f\"Ticket({self.cost},{self.time})\"\n",
    "    \n",
    "    def is_evening_time(self):\n",
    "        if int(self.time.split(':')[0]) >= 18 and int(self.time.split(':')[0]) <= 23:\n",
    "            return True\n",
    "        else:\n",
    "            return False\n",
    "    \n",
    "    def bulk_discount(self, n):\n",
    "        if n >= 5 and n <= 9:\n",
    "            return 10\n",
    "        elif n >= 10:\n",
    "            return 20\n",
    "        else:\n",
    "            return 0"
   ]
  },
  {
   "cell_type": "code",
   "execution_count": 53,
   "id": "0799b62b-68ad-4c9e-8b7b-04d4d6c21351",
   "metadata": {},
   "outputs": [
    {
     "name": "stdout",
     "output_type": "stream",
     "text": [
      "Movie time is at evening? True\n",
      "Discount is 20%\n"
     ]
    }
   ],
   "source": [
    "ticket1 = Ticket(200,'20:15')\n",
    "print(\"Movie time is at evening?\",ticket1.is_evening_time())\n",
    "print(f\"Discount is {ticket1.bulk_discount(15)}%\")"
   ]
  }
 ],
 "metadata": {
  "kernelspec": {
   "display_name": "Python 3 (ipykernel)",
   "language": "python",
   "name": "python3"
  },
  "language_info": {
   "codemirror_mode": {
    "name": "ipython",
    "version": 3
   },
   "file_extension": ".py",
   "mimetype": "text/x-python",
   "name": "python",
   "nbconvert_exporter": "python",
   "pygments_lexer": "ipython3",
   "version": "3.10.6"
  }
 },
 "nbformat": 4,
 "nbformat_minor": 5
}
